{
 "cells": [
  {
   "cell_type": "code",
   "execution_count": 1,
   "metadata": {},
   "outputs": [],
   "source": [
    "import numpy as np\n",
    "import pandas as pd\n",
    "from sklearn.linear_model import Lasso # Lasso 모델 생성\n",
    "from sklearn.model_selection import train_test_split # train, test set 생성\n",
    "from sklearn.metrics import mean_squared_error"
   ]
  },
  {
   "cell_type": "code",
   "execution_count": 2,
   "metadata": {},
   "outputs": [
    {
     "name": "stdout",
     "output_type": "stream",
     "text": [
      "<class 'pandas.core.frame.DataFrame'>\n",
      "RangeIndex: 1301 entries, 0 to 1300\n",
      "Data columns (total 79 columns):\n",
      " #   Column                  Non-Null Count  Dtype  \n",
      "---  ------                  --------------  -----  \n",
      " 0   총_매출_금액                 1301 non-null   float64\n",
      " 1   아파트_단지_수                1301 non-null   float64\n",
      " 2   아파트_면적_66_제곱미터_미만_세대_수  1301 non-null   float64\n",
      " 3   아파트_면적_66_제곱미터_세대_수     1301 non-null   float64\n",
      " 4   아파트_면적_99_제곱미터_세대_수     1301 non-null   float64\n",
      " 5   아파트_면적_132_제곱미터_세대_수    1301 non-null   float64\n",
      " 6   아파트_면적_165_제곱미터_세대_수    1301 non-null   float64\n",
      " 7   아파트_가격_1_억_미만_세대_수      1301 non-null   float64\n",
      " 8   아파트_가격_1_억_세대_수         1301 non-null   float64\n",
      " 9   아파트_가격_2_억_세대_수         1301 non-null   float64\n",
      " 10  아파트_가격_3_억_세대_수         1301 non-null   float64\n",
      " 11  아파트_가격_4_억_세대_수         1301 non-null   float64\n",
      " 12  아파트_가격_5_억_세대_수         1301 non-null   float64\n",
      " 13  아파트_가격_6_억_이상_세대_수      1301 non-null   float64\n",
      " 14  아파트_평균_면적               1301 non-null   float64\n",
      " 15  아파트_평균_시가               1301 non-null   float64\n",
      " 16  총_유동인구_수                1301 non-null   float64\n",
      " 17  남성_유동인구_수               1301 non-null   float64\n",
      " 18  여성_유동인구_수               1301 non-null   float64\n",
      " 19  연령대_10_유동인구_수           1301 non-null   float64\n",
      " 20  연령대_20_유동인구_수           1301 non-null   float64\n",
      " 21  연령대_30_유동인구_수           1301 non-null   float64\n",
      " 22  연령대_40_유동인구_수           1301 non-null   float64\n",
      " 23  연령대_50_유동인구_수           1301 non-null   float64\n",
      " 24  연령대_60_이상_유동인구_수        1301 non-null   float64\n",
      " 25  시간대_1_유동인구_수            1301 non-null   float64\n",
      " 26  시간대_2_유동인구_수            1301 non-null   float64\n",
      " 27  시간대_3_유동인구_수            1301 non-null   float64\n",
      " 28  시간대_4_유동인구_수            1301 non-null   float64\n",
      " 29  시간대_5_유동인구_수            1301 non-null   float64\n",
      " 30  시간대_6_유동인구_수            1301 non-null   float64\n",
      " 31  월요일_유동인구_수              1301 non-null   float64\n",
      " 32  화요일_유동인구_수              1301 non-null   float64\n",
      " 33  수요일_유동인구_수              1301 non-null   float64\n",
      " 34  목요일_유동인구_수              1301 non-null   float64\n",
      " 35  금요일_유동인구_수              1301 non-null   float64\n",
      " 36  토요일_유동인구_수              1301 non-null   float64\n",
      " 37  일요일_유동인구_수              1301 non-null   float64\n",
      " 38  총.상주인구.수                1301 non-null   float64\n",
      " 39  남성.상주인구.수               1301 non-null   float64\n",
      " 40  여성.상주인구.수               1301 non-null   float64\n",
      " 41  연령대.10.상주인구.수           1301 non-null   float64\n",
      " 42  연령대.20.상주인구.수           1301 non-null   float64\n",
      " 43  연령대.30.상주인구.수           1301 non-null   float64\n",
      " 44  연령대.40.상주인구.수           1301 non-null   float64\n",
      " 45  연령대.50.상주인구.수           1301 non-null   float64\n",
      " 46  연령대.60.이상.상주인구.수        1301 non-null   float64\n",
      " 47  총.가구.수                  1301 non-null   float64\n",
      " 48  아파트.가구.수                1301 non-null   float64\n",
      " 49  비.아파트.가구.수              1301 non-null   float64\n",
      " 50  총_직장_인구_수               1301 non-null   float64\n",
      " 51  남성_직장_인구_수              1301 non-null   float64\n",
      " 52  여성_직장_인구_수              1301 non-null   float64\n",
      " 53  연령대_10_직장_인구_수          1301 non-null   float64\n",
      " 54  연령대_20_직장_인구_수          1301 non-null   float64\n",
      " 55  연령대_30_직장_인구_수          1301 non-null   float64\n",
      " 56  연령대_40_직장_인구_수          1301 non-null   float64\n",
      " 57  연령대_50_직장_인구_수          1301 non-null   float64\n",
      " 58  연령대_60_이상_직장_인구_수       1301 non-null   float64\n",
      " 59  집객시설_수                  1301 non-null   float64\n",
      " 60  관공서_수                   1301 non-null   float64\n",
      " 61  은행_수                    1301 non-null   float64\n",
      " 62  종합병원_수                  1301 non-null   float64\n",
      " 63  일반_병원_수                 1301 non-null   float64\n",
      " 64  약국_수                    1301 non-null   float64\n",
      " 65  유치원_수                   1301 non-null   float64\n",
      " 66  초등학교_수                  1301 non-null   float64\n",
      " 67  중학교_수                   1301 non-null   float64\n",
      " 68  고등학교_수                  1301 non-null   float64\n",
      " 69  대학교_수                   1301 non-null   float64\n",
      " 70  백화점_수                   1301 non-null   float64\n",
      " 71  슈퍼마켓_수                  1301 non-null   float64\n",
      " 72  극장_수                    1301 non-null   float64\n",
      " 73  숙박_시설_수                 1301 non-null   float64\n",
      " 74  공항_수                    1301 non-null   int64  \n",
      " 75  철도_역_수                  1301 non-null   int64  \n",
      " 76  버스_터미널_수                1301 non-null   int64  \n",
      " 77  지하철_역_수                 1301 non-null   float64\n",
      " 78  버스_정거장_수                1301 non-null   float64\n",
      "dtypes: float64(76), int64(3)\n",
      "memory usage: 803.1 KB\n"
     ]
    }
   ],
   "source": [
    "# 1. data set loading\n",
    "half = pd.read_csv(\"C:/Users/jjh99/바탕 화면/capstone_data/real_data_no_log.csv\", encoding = 'CP949')\n",
    "# half.info()\n",
    "\n",
    "# 상권 코드 (첫 번째 열) 제거한 use 데이터셋 생성 \n",
    "use = half.iloc[:, 1:]\n",
    "use.info()"
   ]
  },
  {
   "cell_type": "code",
   "execution_count": 3,
   "metadata": {},
   "outputs": [
    {
     "data": {
      "text/plain": [
       "['총_매출_금액',\n",
       " '아파트_단지_수',\n",
       " '아파트_면적_66_제곱미터_미만_세대_수',\n",
       " '아파트_면적_66_제곱미터_세대_수',\n",
       " '아파트_면적_99_제곱미터_세대_수',\n",
       " '아파트_면적_132_제곱미터_세대_수',\n",
       " '아파트_면적_165_제곱미터_세대_수',\n",
       " '아파트_가격_1_억_미만_세대_수',\n",
       " '아파트_가격_1_억_세대_수',\n",
       " '아파트_가격_2_억_세대_수',\n",
       " '아파트_가격_3_억_세대_수',\n",
       " '아파트_가격_4_억_세대_수',\n",
       " '아파트_가격_5_억_세대_수',\n",
       " '아파트_가격_6_억_이상_세대_수',\n",
       " '아파트_평균_면적',\n",
       " '아파트_평균_시가',\n",
       " '총_유동인구_수',\n",
       " '남성_유동인구_수',\n",
       " '여성_유동인구_수',\n",
       " '연령대_10_유동인구_수',\n",
       " '연령대_20_유동인구_수',\n",
       " '연령대_30_유동인구_수',\n",
       " '연령대_40_유동인구_수',\n",
       " '연령대_50_유동인구_수',\n",
       " '연령대_60_이상_유동인구_수',\n",
       " '시간대_1_유동인구_수',\n",
       " '시간대_2_유동인구_수',\n",
       " '시간대_3_유동인구_수',\n",
       " '시간대_4_유동인구_수',\n",
       " '시간대_5_유동인구_수',\n",
       " '시간대_6_유동인구_수',\n",
       " '월요일_유동인구_수',\n",
       " '화요일_유동인구_수',\n",
       " '수요일_유동인구_수',\n",
       " '목요일_유동인구_수',\n",
       " '금요일_유동인구_수',\n",
       " '토요일_유동인구_수',\n",
       " '일요일_유동인구_수',\n",
       " '총.상주인구.수',\n",
       " '남성.상주인구.수',\n",
       " '여성.상주인구.수',\n",
       " '연령대.10.상주인구.수',\n",
       " '연령대.20.상주인구.수',\n",
       " '연령대.30.상주인구.수',\n",
       " '연령대.40.상주인구.수',\n",
       " '연령대.50.상주인구.수',\n",
       " '연령대.60.이상.상주인구.수',\n",
       " '총.가구.수',\n",
       " '아파트.가구.수',\n",
       " '비.아파트.가구.수',\n",
       " '총_직장_인구_수',\n",
       " '남성_직장_인구_수',\n",
       " '여성_직장_인구_수',\n",
       " '연령대_10_직장_인구_수',\n",
       " '연령대_20_직장_인구_수',\n",
       " '연령대_30_직장_인구_수',\n",
       " '연령대_40_직장_인구_수',\n",
       " '연령대_50_직장_인구_수',\n",
       " '연령대_60_이상_직장_인구_수',\n",
       " '집객시설_수',\n",
       " '관공서_수',\n",
       " '은행_수',\n",
       " '종합병원_수',\n",
       " '일반_병원_수',\n",
       " '약국_수',\n",
       " '유치원_수',\n",
       " '초등학교_수',\n",
       " '중학교_수',\n",
       " '고등학교_수',\n",
       " '대학교_수',\n",
       " '백화점_수',\n",
       " '슈퍼마켓_수',\n",
       " '극장_수',\n",
       " '숙박_시설_수',\n",
       " '공항_수',\n",
       " '철도_역_수',\n",
       " '버스_터미널_수',\n",
       " '지하철_역_수',\n",
       " '버스_정거장_수']"
      ]
     },
     "execution_count": 3,
     "metadata": {},
     "output_type": "execute_result"
    }
   ],
   "source": [
    "cols = list(use.columns)\n",
    "cols"
   ]
  },
  {
   "cell_type": "code",
   "execution_count": 4,
   "metadata": {},
   "outputs": [
    {
     "data": {
      "text/plain": [
       "'총_매출_금액'"
      ]
     },
     "execution_count": 4,
     "metadata": {},
     "output_type": "execute_result"
    }
   ],
   "source": [
    "x_cols = cols[1:]\n",
    "y_cols = cols[0]\n",
    "x_cols # 78개의 column\n",
    "y_cols # 총_매출_금액"
   ]
  },
  {
   "cell_type": "code",
   "execution_count": 5,
   "metadata": {},
   "outputs": [],
   "source": [
    "# train set과 test set split(7:3)\n",
    "use_train, use_test = train_test_split(use, test_size = 0.3)"
   ]
  },
  {
   "cell_type": "code",
   "execution_count": 6,
   "metadata": {},
   "outputs": [
    {
     "data": {
      "text/plain": [
       "(391, 79)"
      ]
     },
     "execution_count": 6,
     "metadata": {},
     "output_type": "execute_result"
    }
   ],
   "source": [
    "use_train.shape # (910, 79)\n",
    "use_test.shape # (391, 79)"
   ]
  },
  {
   "cell_type": "code",
   "execution_count": 7,
   "metadata": {},
   "outputs": [
    {
     "name": "stderr",
     "output_type": "stream",
     "text": [
      "C:\\Users\\jjh99\\anaconda3\\lib\\site-packages\\sklearn\\linear_model\\_coordinate_descent.py:529: ConvergenceWarning: Objective did not converge. You might want to increase the number of iterations. Duality gap: 1.789436822455502e+22, tolerance: 2.6988031427693584e+19\n",
      "  model = cd_fast.enet_coordinate_descent(\n"
     ]
    }
   ],
   "source": [
    "lasso_model = Lasso().fit(use_train[x_cols], use_train[y_cols]) # 생성자 -> 객체 생성\n",
    "#lasso_model.fit(X = use_train[x_cols], y = use_train[y_cols]) "
   ]
  },
  {
   "cell_type": "code",
   "execution_count": 8,
   "metadata": {},
   "outputs": [
    {
     "data": {
      "text/plain": [
       "array([ 2.79670233e+15,  8.70317758e+14, -1.89154448e+15, -5.66303422e+15,\n",
       "        3.73777093e+15,  0.00000000e+00, -8.13273052e+14, -2.74798720e+15,\n",
       "       -0.00000000e+00,  2.98474310e+15,  3.74541557e+15, -0.00000000e+00,\n",
       "        1.63558746e+15, -0.00000000e+00,  1.98112207e+09,  1.11564445e+13,\n",
       "       -1.85998718e+13,  3.29652074e+13,  1.33795209e+14, -8.41793547e+13,\n",
       "        2.48304396e+14, -3.23554442e+14,  2.91814909e+14, -8.68960086e+13,\n",
       "        2.12032905e+14, -5.77514680e+14,  2.19055531e+13,  3.70769477e+14,\n",
       "       -2.30555295e+14,  4.72796102e+13, -4.44126274e+14,  1.90022657e+14,\n",
       "        3.01007793e+14,  1.01856755e+14, -1.16339681e+14,  4.85604045e+14,\n",
       "       -4.35347337e+14,  0.00000000e+00, -5.32420743e+15,  3.08380628e+15,\n",
       "       -2.88907732e+15,  3.44105337e+15, -6.16083669e+15,  3.81121653e+14,\n",
       "        1.52801993e+16, -1.93685421e+16,  6.81753901e+15,  6.72777042e+15,\n",
       "        0.00000000e+00,  8.49824292e+13, -5.59745186e+14,  2.33239948e+15,\n",
       "       -2.42659337e+16, -1.98045364e+15,  9.32659675e+15, -2.52198987e+15,\n",
       "       -5.34927585e+15, -8.32939916e+14,  7.52648129e+17,  0.00000000e+00,\n",
       "        0.00000000e+00,  0.00000000e+00, -0.00000000e+00,  0.00000000e+00,\n",
       "       -0.00000000e+00, -0.00000000e+00,  0.00000000e+00,  0.00000000e+00,\n",
       "       -0.00000000e+00,  0.00000000e+00,  0.00000000e+00,  0.00000000e+00,\n",
       "       -0.00000000e+00,  0.00000000e+00,  0.00000000e+00,  0.00000000e+00,\n",
       "        0.00000000e+00,  0.00000000e+00])"
      ]
     },
     "execution_count": 8,
     "metadata": {},
     "output_type": "execute_result"
    }
   ],
   "source": [
    "lasso_model.coef_ # 기울기"
   ]
  },
  {
   "cell_type": "code",
   "execution_count": 9,
   "metadata": {
    "scrolled": true
   },
   "outputs": [
    {
     "data": {
      "text/plain": [
       "854298288.4955502"
      ]
     },
     "execution_count": 9,
     "metadata": {},
     "output_type": "execute_result"
    }
   ],
   "source": [
    "lasso_model.intercept_ \n",
    "# 회귀방정식 = X * 기울기 + 절편\n",
    "# 실행할 때마다 값이 바뀌므로 이 값 자체는 유의미하지는 않음"
   ]
  },
  {
   "cell_type": "code",
   "execution_count": 10,
   "metadata": {},
   "outputs": [
    {
     "data": {
      "text/plain": [
       "391"
      ]
     },
     "execution_count": 10,
     "metadata": {},
     "output_type": "execute_result"
    }
   ],
   "source": [
    "y_pred = lasso_model.predict(X=use_test[x_cols])\n",
    "y_pred\n",
    "len(y_pred) # 391"
   ]
  },
  {
   "cell_type": "code",
   "execution_count": 11,
   "metadata": {},
   "outputs": [
    {
     "data": {
      "text/plain": [
       "917     8.349005e+09\n",
       "1099    8.341199e+09\n",
       "66      3.453430e+09\n",
       "720     6.810149e+09\n",
       "586     4.402227e+09\n",
       "            ...     \n",
       "666     2.092770e+09\n",
       "623     1.152907e+10\n",
       "867     6.278062e+08\n",
       "116     4.687752e+09\n",
       "507     6.380378e+09\n",
       "Name: 총_매출_금액, Length: 391, dtype: float64"
      ]
     },
     "execution_count": 11,
     "metadata": {},
     "output_type": "execute_result"
    }
   ],
   "source": [
    "y_true = use_test[y_cols]\n",
    "y_true"
   ]
  },
  {
   "cell_type": "code",
   "execution_count": 12,
   "metadata": {},
   "outputs": [
    {
     "data": {
      "text/html": [
       "<div>\n",
       "<style scoped>\n",
       "    .dataframe tbody tr th:only-of-type {\n",
       "        vertical-align: middle;\n",
       "    }\n",
       "\n",
       "    .dataframe tbody tr th {\n",
       "        vertical-align: top;\n",
       "    }\n",
       "\n",
       "    .dataframe thead th {\n",
       "        text-align: right;\n",
       "    }\n",
       "</style>\n",
       "<table border=\"1\" class=\"dataframe\">\n",
       "  <thead>\n",
       "    <tr style=\"text-align: right;\">\n",
       "      <th></th>\n",
       "      <th>y_pred</th>\n",
       "      <th>y_true</th>\n",
       "    </tr>\n",
       "  </thead>\n",
       "  <tbody>\n",
       "    <tr>\n",
       "      <th>917</th>\n",
       "      <td>9.950257e+09</td>\n",
       "      <td>8.349005e+09</td>\n",
       "    </tr>\n",
       "    <tr>\n",
       "      <th>1099</th>\n",
       "      <td>8.190992e+09</td>\n",
       "      <td>8.341199e+09</td>\n",
       "    </tr>\n",
       "    <tr>\n",
       "      <th>66</th>\n",
       "      <td>2.476841e+09</td>\n",
       "      <td>3.453430e+09</td>\n",
       "    </tr>\n",
       "    <tr>\n",
       "      <th>720</th>\n",
       "      <td>8.681275e+09</td>\n",
       "      <td>6.810149e+09</td>\n",
       "    </tr>\n",
       "    <tr>\n",
       "      <th>586</th>\n",
       "      <td>9.925895e+09</td>\n",
       "      <td>4.402227e+09</td>\n",
       "    </tr>\n",
       "    <tr>\n",
       "      <th>...</th>\n",
       "      <td>...</td>\n",
       "      <td>...</td>\n",
       "    </tr>\n",
       "    <tr>\n",
       "      <th>666</th>\n",
       "      <td>6.299911e+09</td>\n",
       "      <td>2.092770e+09</td>\n",
       "    </tr>\n",
       "    <tr>\n",
       "      <th>623</th>\n",
       "      <td>7.031187e+09</td>\n",
       "      <td>1.152907e+10</td>\n",
       "    </tr>\n",
       "    <tr>\n",
       "      <th>867</th>\n",
       "      <td>5.245313e+09</td>\n",
       "      <td>6.278062e+08</td>\n",
       "    </tr>\n",
       "    <tr>\n",
       "      <th>116</th>\n",
       "      <td>7.785977e+09</td>\n",
       "      <td>4.687752e+09</td>\n",
       "    </tr>\n",
       "    <tr>\n",
       "      <th>507</th>\n",
       "      <td>1.005350e+10</td>\n",
       "      <td>6.380378e+09</td>\n",
       "    </tr>\n",
       "  </tbody>\n",
       "</table>\n",
       "<p>391 rows × 2 columns</p>\n",
       "</div>"
      ],
      "text/plain": [
       "            y_pred        y_true\n",
       "917   9.950257e+09  8.349005e+09\n",
       "1099  8.190992e+09  8.341199e+09\n",
       "66    2.476841e+09  3.453430e+09\n",
       "720   8.681275e+09  6.810149e+09\n",
       "586   9.925895e+09  4.402227e+09\n",
       "...            ...           ...\n",
       "666   6.299911e+09  2.092770e+09\n",
       "623   7.031187e+09  1.152907e+10\n",
       "867   5.245313e+09  6.278062e+08\n",
       "116   7.785977e+09  4.687752e+09\n",
       "507   1.005350e+10  6.380378e+09\n",
       "\n",
       "[391 rows x 2 columns]"
      ]
     },
     "execution_count": 12,
     "metadata": {},
     "output_type": "execute_result"
    }
   ],
   "source": [
    "# 실제값(y_true)과 예측값(y_pred) 리스트 출력\n",
    "sample = pd.DataFrame(\n",
    "{\n",
    "    'y_pred' : y_pred,\n",
    "    'y_true' : y_true\n",
    "})\n",
    "sample"
   ]
  },
  {
   "cell_type": "code",
   "execution_count": 13,
   "metadata": {},
   "outputs": [
    {
     "data": {
      "text/html": [
       "<div>\n",
       "<style scoped>\n",
       "    .dataframe tbody tr th:only-of-type {\n",
       "        vertical-align: middle;\n",
       "    }\n",
       "\n",
       "    .dataframe tbody tr th {\n",
       "        vertical-align: top;\n",
       "    }\n",
       "\n",
       "    .dataframe thead th {\n",
       "        text-align: right;\n",
       "    }\n",
       "</style>\n",
       "<table border=\"1\" class=\"dataframe\">\n",
       "  <thead>\n",
       "    <tr style=\"text-align: right;\">\n",
       "      <th></th>\n",
       "      <th>y_pred</th>\n",
       "      <th>y_true</th>\n",
       "      <th>relative_error</th>\n",
       "    </tr>\n",
       "  </thead>\n",
       "  <tbody>\n",
       "    <tr>\n",
       "      <th>917</th>\n",
       "      <td>9.950257e+09</td>\n",
       "      <td>8.349005e+09</td>\n",
       "      <td>-0.191790</td>\n",
       "    </tr>\n",
       "    <tr>\n",
       "      <th>1099</th>\n",
       "      <td>8.190992e+09</td>\n",
       "      <td>8.341199e+09</td>\n",
       "      <td>0.018008</td>\n",
       "    </tr>\n",
       "    <tr>\n",
       "      <th>66</th>\n",
       "      <td>2.476841e+09</td>\n",
       "      <td>3.453430e+09</td>\n",
       "      <td>0.282788</td>\n",
       "    </tr>\n",
       "    <tr>\n",
       "      <th>720</th>\n",
       "      <td>8.681275e+09</td>\n",
       "      <td>6.810149e+09</td>\n",
       "      <td>-0.274756</td>\n",
       "    </tr>\n",
       "    <tr>\n",
       "      <th>586</th>\n",
       "      <td>9.925895e+09</td>\n",
       "      <td>4.402227e+09</td>\n",
       "      <td>-1.254744</td>\n",
       "    </tr>\n",
       "  </tbody>\n",
       "</table>\n",
       "</div>"
      ],
      "text/plain": [
       "            y_pred        y_true  relative_error\n",
       "917   9.950257e+09  8.349005e+09       -0.191790\n",
       "1099  8.190992e+09  8.341199e+09        0.018008\n",
       "66    2.476841e+09  3.453430e+09        0.282788\n",
       "720   8.681275e+09  6.810149e+09       -0.274756\n",
       "586   9.925895e+09  4.402227e+09       -1.254744"
      ]
     },
     "execution_count": 13,
     "metadata": {},
     "output_type": "execute_result"
    }
   ],
   "source": [
    "# 상대 오차 구하기 \n",
    "# 실제값과 예측값의 차를 실제값으로 나눠 오차의 정도를 파악할 수 있음\n",
    "relative_error = (sample['y_true'] - sample['y_pred']) / sample['y_true']\n",
    "relative_error.head()\n",
    "sample['relative_error'] = relative_error\n",
    "sample.head()"
   ]
  },
  {
   "cell_type": "code",
   "execution_count": 14,
   "metadata": {},
   "outputs": [],
   "source": [
    "# 예측값과 실제값, 상대 오차로 이루어진 list csv 파일 생성\n",
    "sample.to_csv(\"C:\\\\Users\\\\jjh99\\\\바탕 화면\\\\capstone_data\\\\relative_error_lasso_no_log.csv\", encoding = 'utf-8-sig')"
   ]
  },
  {
   "cell_type": "code",
   "execution_count": 16,
   "metadata": {},
   "outputs": [
    {
     "name": "stdout",
     "output_type": "stream",
     "text": [
      "train set score: 0.873\n",
      "test set score: 0.854\n",
      "The number of feature = 53\n",
      "max_iter : 1000\n"
     ]
    }
   ],
   "source": [
    "# 라쏘 모델의 점수\n",
    "print(\"train set score: {:.3f}\".format(lasso_model.score(use_train[x_cols], use_train[y_cols])))\n",
    "print(\"test set score: {:.3f}\".format(lasso_model.score(use_test[x_cols], use_test[y_cols])))\n",
    "print(\"The number of feature = {}\".format(np.sum(lasso_model.coef_ != 0)))\n",
    "print(\"max_iter : {}\".format(lasso_model.n_iter_))\n",
    "\n",
    "# train set score: 0.873\n",
    "# test set score: 0.854\n",
    "# The number of feature = 53\n",
    "# max_iter : 1000"
   ]
  },
  {
   "cell_type": "code",
   "execution_count": 20,
   "metadata": {},
   "outputs": [
    {
     "name": "stdout",
     "output_type": "stream",
     "text": [
      "Train set score = 0.8861038491931732\n",
      "Test set score = 0.8367329357611989\n",
      "The number of feature = 59\n",
      "Max_iter = 100000\n"
     ]
    },
    {
     "name": "stderr",
     "output_type": "stream",
     "text": [
      "C:\\Users\\jjh99\\anaconda3\\lib\\site-packages\\sklearn\\linear_model\\_coordinate_descent.py:529: ConvergenceWarning: Objective did not converge. You might want to increase the number of iterations. Duality gap: 1.5886603860829404e+22, tolerance: 2.6988031427693584e+19\n",
      "  model = cd_fast.enet_coordinate_descent(\n"
     ]
    }
   ],
   "source": [
    "lasso_model_1 = Lasso(alpha = 0.1, max_iter = 100000).fit(use_train[x_cols], use_train[y_cols])\n",
    "print(\"Train set score = {}\".format(lasso_model_1.score(use_train[x_cols], use_train[y_cols])))\n",
    "print(\"Test set score = {}\".format(lasso_model_1.score(use_test[x_cols], use_test[y_cols])))\n",
    "print(\"The number of feature = {}\".format(np.sum(lasso_model_1.coef_ != 0)))\n",
    "print(\"Max_iter = {}\".format(lasso_model_1.n_iter_))"
   ]
  },
  {
   "cell_type": "code",
   "execution_count": 18,
   "metadata": {},
   "outputs": [
    {
     "name": "stdout",
     "output_type": "stream",
     "text": [
      "Train set score = 0.8931857644492821\n",
      "Test set score = 0.8134600262045207\n",
      "The number of feature = 74\n",
      "Max_iter = 100000\n"
     ]
    },
    {
     "name": "stderr",
     "output_type": "stream",
     "text": [
      "C:\\Users\\jjh99\\anaconda3\\lib\\site-packages\\sklearn\\linear_model\\_coordinate_descent.py:529: ConvergenceWarning: Objective did not converge. You might want to increase the number of iterations. Duality gap: 1.4463190900726859e+22, tolerance: 2.6988031427693584e+19\n",
      "  model = cd_fast.enet_coordinate_descent(\n"
     ]
    }
   ],
   "source": [
    "lasso_model_100 = Lasso(alpha = 0.001, max_iter = 100000).fit(use_train[x_cols], use_train[y_cols])\n",
    "print(\"Train set score = {}\".format(lasso_model_100.score(use_train[x_cols], use_train[y_cols])))\n",
    "print(\"Test set score = {}\".format(lasso_model_100.score(use_test[x_cols], use_test[y_cols])))\n",
    "print(\"The number of feature = {}\".format(np.sum(lasso_model_100.coef_ != 0)))\n",
    "print(\"Max_iter = {}\".format(lasso_model_100.n_iter_))"
   ]
  },
  {
   "cell_type": "code",
   "execution_count": 19,
   "metadata": {},
   "outputs": [
    {
     "name": "stdout",
     "output_type": "stream",
     "text": [
      "Train set score = 0.8932045515993718\n",
      "Test set score = 0.8133977926399686\n",
      "The number of feature = 75\n",
      "Used Max_iter = 100000\n"
     ]
    },
    {
     "name": "stderr",
     "output_type": "stream",
     "text": [
      "C:\\Users\\jjh99\\anaconda3\\lib\\site-packages\\sklearn\\linear_model\\_coordinate_descent.py:529: ConvergenceWarning: Objective did not converge. You might want to increase the number of iterations. Duality gap: 1.4416406828044715e+22, tolerance: 2.6988031427693584e+19\n",
      "  model = cd_fast.enet_coordinate_descent(\n"
     ]
    }
   ],
   "source": [
    "lasso_model_1000 = Lasso(alpha = 0.0001, max_iter = 100000).fit(use_train[x_cols], use_train[y_cols])\n",
    "print(\"Train set score = {}\".format(lasso_model_1000.score(use_train[x_cols], use_train[y_cols])))\n",
    "print(\"Test set score = {}\".format(lasso_model_1000.score(use_test[x_cols], use_test[y_cols])))\n",
    "print(\"The number of feature = {}\".format(np.sum(lasso_model_1000.coef_ != 0)))\n",
    "print(\"Used Max_iter = {}\".format(lasso_model_1000.n_iter_))"
   ]
  },
  {
   "cell_type": "code",
   "execution_count": 22,
   "metadata": {},
   "outputs": [
    {
     "data": {
      "image/png": "[encoded data removed]",
      "text/plain": [
       "<Figure size 432x288 with 1 Axes>"
      ]
     },
     "metadata": {
      "needs_background": "light"
     },
     "output_type": "display_data"
    }
   ],
   "source": [
    "import matplotlib.pyplot as plt\n",
    "\n",
    "plt.plot(lasso_model.coef_, 's', label=\"Lasso alpha=1\")\n",
    "\n",
    "plt.plot(lasso_model_1.coef_, '^', label=\"Lasso alpha=0.1\")\n",
    "\n",
    "plt.plot(lasso_model_100.coef_, 'v', label=\"Lasso alpha=0.001\")\n",
    "\n",
    "plt.plot(lasso_model_1000.coef_, 'o', label=\"Lasso alpha=0.0001\")\n",
    "\n",
    "plt.legend(ncol=2, loc=(0, 1.05))\n",
    "\n",
    "plt.xlabel(\"w list\")\n",
    "\n",
    "plt.ylabel(\"w size\")\n",
    "\n",
    "# plt.hlines(0, 0, len(lr.coef_))\n",
    "\n",
    "plt.ylim(-25, 25)\n",
    "plt.show()"
   ]
  }
 ],
 "metadata": {
  "kernelspec": {
   "display_name": "Python 3",
   "language": "python",
   "name": "python3"
  },
  "language_info": {
   "codemirror_mode": {
    "name": "ipython",
    "version": 3
   },
   "file_extension": ".py",
   "mimetype": "text/x-python",
   "name": "python",
   "nbconvert_exporter": "python",
   "pygments_lexer": "ipython3",
   "version": "3.8.3"
  }
 },
 "nbformat": 4,
 "nbformat_minor": 4
}
