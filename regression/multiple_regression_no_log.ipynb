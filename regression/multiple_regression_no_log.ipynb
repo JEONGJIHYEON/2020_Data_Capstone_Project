{
 "cells": [
  {
   "cell_type": "code",
   "execution_count": 1,
   "metadata": {},
   "outputs": [],
   "source": [
    "import pandas as pd # csv file\n",
    "from sklearn.linear_model import LinearRegression # 선형 회귀 모델 생성\n",
    "from sklearn.model_selection import train_test_split # train/test set 생성\n",
    "from sklearn.metrics import mean_squared_error # MSE : 평균제곱오차 - model 평가"
   ]
  },
  {
   "cell_type": "code",
   "execution_count": 2,
   "metadata": {},
   "outputs": [
    {
     "name": "stdout",
     "output_type": "stream",
     "text": [
      "<class 'pandas.core.frame.DataFrame'>\n",
      "RangeIndex: 1301 entries, 0 to 1300\n",
      "Data columns (total 79 columns):\n",
      " #   Column                  Non-Null Count  Dtype  \n",
      "---  ------                  --------------  -----  \n",
      " 0   총_매출_금액                 1301 non-null   float64\n",
      " 1   아파트_단지_수                1301 non-null   float64\n",
      " 2   아파트_면적_66_제곱미터_미만_세대_수  1301 non-null   float64\n",
      " 3   아파트_면적_66_제곱미터_세대_수     1301 non-null   float64\n",
      " 4   아파트_면적_99_제곱미터_세대_수     1301 non-null   float64\n",
      " 5   아파트_면적_132_제곱미터_세대_수    1301 non-null   float64\n",
      " 6   아파트_면적_165_제곱미터_세대_수    1301 non-null   float64\n",
      " 7   아파트_가격_1_억_미만_세대_수      1301 non-null   float64\n",
      " 8   아파트_가격_1_억_세대_수         1301 non-null   float64\n",
      " 9   아파트_가격_2_억_세대_수         1301 non-null   float64\n",
      " 10  아파트_가격_3_억_세대_수         1301 non-null   float64\n",
      " 11  아파트_가격_4_억_세대_수         1301 non-null   float64\n",
      " 12  아파트_가격_5_억_세대_수         1301 non-null   float64\n",
      " 13  아파트_가격_6_억_이상_세대_수      1301 non-null   float64\n",
      " 14  아파트_평균_면적               1301 non-null   float64\n",
      " 15  아파트_평균_시가               1301 non-null   float64\n",
      " 16  총_유동인구_수                1301 non-null   float64\n",
      " 17  남성_유동인구_수               1301 non-null   float64\n",
      " 18  여성_유동인구_수               1301 non-null   float64\n",
      " 19  연령대_10_유동인구_수           1301 non-null   float64\n",
      " 20  연령대_20_유동인구_수           1301 non-null   float64\n",
      " 21  연령대_30_유동인구_수           1301 non-null   float64\n",
      " 22  연령대_40_유동인구_수           1301 non-null   float64\n",
      " 23  연령대_50_유동인구_수           1301 non-null   float64\n",
      " 24  연령대_60_이상_유동인구_수        1301 non-null   float64\n",
      " 25  시간대_1_유동인구_수            1301 non-null   float64\n",
      " 26  시간대_2_유동인구_수            1301 non-null   float64\n",
      " 27  시간대_3_유동인구_수            1301 non-null   float64\n",
      " 28  시간대_4_유동인구_수            1301 non-null   float64\n",
      " 29  시간대_5_유동인구_수            1301 non-null   float64\n",
      " 30  시간대_6_유동인구_수            1301 non-null   float64\n",
      " 31  월요일_유동인구_수              1301 non-null   float64\n",
      " 32  화요일_유동인구_수              1301 non-null   float64\n",
      " 33  수요일_유동인구_수              1301 non-null   float64\n",
      " 34  목요일_유동인구_수              1301 non-null   float64\n",
      " 35  금요일_유동인구_수              1301 non-null   float64\n",
      " 36  토요일_유동인구_수              1301 non-null   float64\n",
      " 37  일요일_유동인구_수              1301 non-null   float64\n",
      " 38  총.상주인구.수                1301 non-null   float64\n",
      " 39  남성.상주인구.수               1301 non-null   float64\n",
      " 40  여성.상주인구.수               1301 non-null   float64\n",
      " 41  연령대.10.상주인구.수           1301 non-null   float64\n",
      " 42  연령대.20.상주인구.수           1301 non-null   float64\n",
      " 43  연령대.30.상주인구.수           1301 non-null   float64\n",
      " 44  연령대.40.상주인구.수           1301 non-null   float64\n",
      " 45  연령대.50.상주인구.수           1301 non-null   float64\n",
      " 46  연령대.60.이상.상주인구.수        1301 non-null   float64\n",
      " 47  총.가구.수                  1301 non-null   float64\n",
      " 48  아파트.가구.수                1301 non-null   float64\n",
      " 49  비.아파트.가구.수              1301 non-null   float64\n",
      " 50  총_직장_인구_수               1301 non-null   float64\n",
      " 51  남성_직장_인구_수              1301 non-null   float64\n",
      " 52  여성_직장_인구_수              1301 non-null   float64\n",
      " 53  연령대_10_직장_인구_수          1301 non-null   float64\n",
      " 54  연령대_20_직장_인구_수          1301 non-null   float64\n",
      " 55  연령대_30_직장_인구_수          1301 non-null   float64\n",
      " 56  연령대_40_직장_인구_수          1301 non-null   float64\n",
      " 57  연령대_50_직장_인구_수          1301 non-null   float64\n",
      " 58  연령대_60_이상_직장_인구_수       1301 non-null   float64\n",
      " 59  집객시설_수                  1301 non-null   float64\n",
      " 60  관공서_수                   1301 non-null   float64\n",
      " 61  은행_수                    1301 non-null   float64\n",
      " 62  종합병원_수                  1301 non-null   float64\n",
      " 63  일반_병원_수                 1301 non-null   float64\n",
      " 64  약국_수                    1301 non-null   float64\n",
      " 65  유치원_수                   1301 non-null   float64\n",
      " 66  초등학교_수                  1301 non-null   float64\n",
      " 67  중학교_수                   1301 non-null   float64\n",
      " 68  고등학교_수                  1301 non-null   float64\n",
      " 69  대학교_수                   1301 non-null   float64\n",
      " 70  백화점_수                   1301 non-null   float64\n",
      " 71  슈퍼마켓_수                  1301 non-null   float64\n",
      " 72  극장_수                    1301 non-null   float64\n",
      " 73  숙박_시설_수                 1301 non-null   float64\n",
      " 74  공항_수                    1301 non-null   int64  \n",
      " 75  철도_역_수                  1301 non-null   int64  \n",
      " 76  버스_터미널_수                1301 non-null   int64  \n",
      " 77  지하철_역_수                 1301 non-null   float64\n",
      " 78  버스_정거장_수                1301 non-null   float64\n",
      "dtypes: float64(76), int64(3)\n",
      "memory usage: 803.1 KB\n"
     ]
    }
   ],
   "source": [
    "# 1. data set loading\n",
    "half = pd.read_csv(\"C:/Users/jjh99/바탕 화면/capstone_data/real_data_no_log.csv\", encoding = 'CP949')\n",
    "# half.info()\n",
    "\n",
    "# half는 상권 코드 (첫 번째 열)까지 포함한 data set. 이를 제거한 use로 해야 됨. \n",
    "use = half.iloc[:, 1:]\n",
    "use.info()"
   ]
  },
  {
   "cell_type": "code",
   "execution_count": 3,
   "metadata": {},
   "outputs": [
    {
     "data": {
      "text/plain": [
       "['총_매출_금액',\n",
       " '아파트_단지_수',\n",
       " '아파트_면적_66_제곱미터_미만_세대_수',\n",
       " '아파트_면적_66_제곱미터_세대_수',\n",
       " '아파트_면적_99_제곱미터_세대_수',\n",
       " '아파트_면적_132_제곱미터_세대_수',\n",
       " '아파트_면적_165_제곱미터_세대_수',\n",
       " '아파트_가격_1_억_미만_세대_수',\n",
       " '아파트_가격_1_억_세대_수',\n",
       " '아파트_가격_2_억_세대_수',\n",
       " '아파트_가격_3_억_세대_수',\n",
       " '아파트_가격_4_억_세대_수',\n",
       " '아파트_가격_5_억_세대_수',\n",
       " '아파트_가격_6_억_이상_세대_수',\n",
       " '아파트_평균_면적',\n",
       " '아파트_평균_시가',\n",
       " '총_유동인구_수',\n",
       " '남성_유동인구_수',\n",
       " '여성_유동인구_수',\n",
       " '연령대_10_유동인구_수',\n",
       " '연령대_20_유동인구_수',\n",
       " '연령대_30_유동인구_수',\n",
       " '연령대_40_유동인구_수',\n",
       " '연령대_50_유동인구_수',\n",
       " '연령대_60_이상_유동인구_수',\n",
       " '시간대_1_유동인구_수',\n",
       " '시간대_2_유동인구_수',\n",
       " '시간대_3_유동인구_수',\n",
       " '시간대_4_유동인구_수',\n",
       " '시간대_5_유동인구_수',\n",
       " '시간대_6_유동인구_수',\n",
       " '월요일_유동인구_수',\n",
       " '화요일_유동인구_수',\n",
       " '수요일_유동인구_수',\n",
       " '목요일_유동인구_수',\n",
       " '금요일_유동인구_수',\n",
       " '토요일_유동인구_수',\n",
       " '일요일_유동인구_수',\n",
       " '총.상주인구.수',\n",
       " '남성.상주인구.수',\n",
       " '여성.상주인구.수',\n",
       " '연령대.10.상주인구.수',\n",
       " '연령대.20.상주인구.수',\n",
       " '연령대.30.상주인구.수',\n",
       " '연령대.40.상주인구.수',\n",
       " '연령대.50.상주인구.수',\n",
       " '연령대.60.이상.상주인구.수',\n",
       " '총.가구.수',\n",
       " '아파트.가구.수',\n",
       " '비.아파트.가구.수',\n",
       " '총_직장_인구_수',\n",
       " '남성_직장_인구_수',\n",
       " '여성_직장_인구_수',\n",
       " '연령대_10_직장_인구_수',\n",
       " '연령대_20_직장_인구_수',\n",
       " '연령대_30_직장_인구_수',\n",
       " '연령대_40_직장_인구_수',\n",
       " '연령대_50_직장_인구_수',\n",
       " '연령대_60_이상_직장_인구_수',\n",
       " '집객시설_수',\n",
       " '관공서_수',\n",
       " '은행_수',\n",
       " '종합병원_수',\n",
       " '일반_병원_수',\n",
       " '약국_수',\n",
       " '유치원_수',\n",
       " '초등학교_수',\n",
       " '중학교_수',\n",
       " '고등학교_수',\n",
       " '대학교_수',\n",
       " '백화점_수',\n",
       " '슈퍼마켓_수',\n",
       " '극장_수',\n",
       " '숙박_시설_수',\n",
       " '공항_수',\n",
       " '철도_역_수',\n",
       " '버스_터미널_수',\n",
       " '지하철_역_수',\n",
       " '버스_정거장_수']"
      ]
     },
     "execution_count": 3,
     "metadata": {},
     "output_type": "execute_result"
    }
   ],
   "source": [
    "cols = list(use.columns)\n",
    "cols"
   ]
  },
  {
   "cell_type": "code",
   "execution_count": 4,
   "metadata": {},
   "outputs": [
    {
     "data": {
      "text/plain": [
       "'총_매출_금액'"
      ]
     },
     "execution_count": 4,
     "metadata": {},
     "output_type": "execute_result"
    }
   ],
   "source": [
    "x_cols = cols[1:]\n",
    "y_cols = cols[0]\n",
    "x_cols # 78개의 column\n",
    "y_cols # 총_매출_금액"
   ]
  },
  {
   "cell_type": "code",
   "execution_count": 5,
   "metadata": {},
   "outputs": [],
   "source": [
    "# train set과 test set split(7:3)\n",
    "use_train, use_test = train_test_split(use, test_size = 0.3)"
   ]
  },
  {
   "cell_type": "code",
   "execution_count": 6,
   "metadata": {},
   "outputs": [
    {
     "data": {
      "text/plain": [
       "(391, 79)"
      ]
     },
     "execution_count": 6,
     "metadata": {},
     "output_type": "execute_result"
    }
   ],
   "source": [
    "use_train.shape # (910, 79)\n",
    "use_test.shape # (391, 79)"
   ]
  },
  {
   "cell_type": "code",
   "execution_count": 7,
   "metadata": {},
   "outputs": [
    {
     "data": {
      "text/plain": [
       "LinearRegression()"
      ]
     },
     "execution_count": 7,
     "metadata": {},
     "output_type": "execute_result"
    }
   ],
   "source": [
    "model = LinearRegression() # 생성자 -> 객체 생성\n",
    "model.fit(X = use_train[x_cols], y = use_train[y_cols]) "
   ]
  },
  {
   "cell_type": "code",
   "execution_count": 8,
   "metadata": {},
   "outputs": [
    {
     "data": {
      "text/plain": [
       "array([-9.00853792e+15,  1.16791062e+17,  1.09297248e+17,  1.00263814e+17,\n",
       "        1.47536058e+17,  1.26692296e+17, -1.16327684e+17, -1.16674475e+17,\n",
       "       -1.13237668e+17, -1.07833225e+17, -1.15499422e+17, -1.24917146e+17,\n",
       "       -9.50084857e+16,  6.35069375e+16, -8.96875992e+09,  9.02456925e+14,\n",
       "        2.95383385e+15,  2.99596024e+15,  1.10114408e+15,  8.82332972e+14,\n",
       "        1.15919217e+15,  7.43408685e+14,  1.06444004e+15,  8.13057122e+14,\n",
       "       -6.70129317e+15, -6.97694780e+15, -6.77138689e+15, -6.48776005e+15,\n",
       "       -7.07079277e+15, -6.36972122e+15,  7.58148316e+14,  2.11244285e+15,\n",
       "        2.25963712e+15,  2.67152538e+15,  1.85639717e+15,  2.22484445e+15,\n",
       "        1.70358666e+15,  6.69323775e+16,  1.15813657e+17,  1.23073928e+17,\n",
       "       -1.81731386e+17, -1.85112483e+17, -1.85541155e+17, -2.05551656e+17,\n",
       "       -1.74466768e+17, -1.89776860e+17, -2.13148583e+16,  2.49255881e+16,\n",
       "        2.26212959e+16,  1.20430359e+17, -5.31336351e+17, -5.29626378e+17,\n",
       "        3.40621461e+17,  4.19813588e+17,  4.12195451e+17,  4.11719511e+17,\n",
       "        4.00331515e+17,  4.12367933e+17,  6.35543647e+17,  1.33044933e+18,\n",
       "        1.80579867e+18,  2.84485486e+18, -2.35898076e+18,  9.37298233e+17,\n",
       "       -1.82413334e+18, -1.79334276e+18, -5.80611289e+18,  1.06445994e+19,\n",
       "       -8.68111979e+17,  3.08151106e+19,  3.69441358e+18, -9.41488858e+17,\n",
       "       -2.05168411e+17,  4.09600000e+03,  0.00000000e+00,  0.00000000e+00,\n",
       "        1.27828628e+18,  2.94626880e+17])"
      ]
     },
     "execution_count": 8,
     "metadata": {},
     "output_type": "execute_result"
    }
   ],
   "source": [
    "model.coef_ # 기울기"
   ]
  },
  {
   "cell_type": "code",
   "execution_count": 9,
   "metadata": {
    "scrolled": true
   },
   "outputs": [
    {
     "data": {
      "text/plain": [
       "-355709228.37326145"
      ]
     },
     "execution_count": 9,
     "metadata": {},
     "output_type": "execute_result"
    }
   ],
   "source": [
    "model.intercept_ # 절편 -355709228.37326145\n",
    "# 회귀방정식 = X * 기울기 + 절편\n",
    "# 실행할 때마다 값이 바뀌므로 이 값 자체는 유의미하지는 않음"
   ]
  },
  {
   "cell_type": "code",
   "execution_count": 10,
   "metadata": {},
   "outputs": [
    {
     "data": {
      "text/plain": [
       "391"
      ]
     },
     "execution_count": 10,
     "metadata": {},
     "output_type": "execute_result"
    }
   ],
   "source": [
    "# 모델 평가 : test\n",
    "# 1) 모델 예측\n",
    "y_pred = model.predict(X=use_test[x_cols])\n",
    "y_pred\n",
    "len(y_pred) # 391"
   ]
  },
  {
   "cell_type": "code",
   "execution_count": 11,
   "metadata": {},
   "outputs": [
    {
     "data": {
      "text/plain": [
       "1286    6.862506e+09\n",
       "617     1.400733e+09\n",
       "1158    1.068997e+10\n",
       "220     5.245433e+09\n",
       "1254    1.639283e+10\n",
       "            ...     \n",
       "401     2.795193e+08\n",
       "110     2.320185e+09\n",
       "214     9.001764e+08\n",
       "646     7.944131e+09\n",
       "417     6.155062e+09\n",
       "Name: 총_매출_금액, Length: 391, dtype: float64"
      ]
     },
     "execution_count": 11,
     "metadata": {},
     "output_type": "execute_result"
    }
   ],
   "source": [
    "y_true = use_test[y_cols]\n",
    "y_true"
   ]
  },
  {
   "cell_type": "code",
   "execution_count": 12,
   "metadata": {},
   "outputs": [
    {
     "data": {
      "text/html": [
       "<div>\n",
       "<style scoped>\n",
       "    .dataframe tbody tr th:only-of-type {\n",
       "        vertical-align: middle;\n",
       "    }\n",
       "\n",
       "    .dataframe tbody tr th {\n",
       "        vertical-align: top;\n",
       "    }\n",
       "\n",
       "    .dataframe thead th {\n",
       "        text-align: right;\n",
       "    }\n",
       "</style>\n",
       "<table border=\"1\" class=\"dataframe\">\n",
       "  <thead>\n",
       "    <tr style=\"text-align: right;\">\n",
       "      <th></th>\n",
       "      <th>y_pred</th>\n",
       "      <th>y_true</th>\n",
       "    </tr>\n",
       "  </thead>\n",
       "  <tbody>\n",
       "    <tr>\n",
       "      <th>1286</th>\n",
       "      <td>1.560161e+09</td>\n",
       "      <td>6.862506e+09</td>\n",
       "    </tr>\n",
       "    <tr>\n",
       "      <th>617</th>\n",
       "      <td>1.039580e+09</td>\n",
       "      <td>1.400733e+09</td>\n",
       "    </tr>\n",
       "    <tr>\n",
       "      <th>1158</th>\n",
       "      <td>9.746600e+09</td>\n",
       "      <td>1.068997e+10</td>\n",
       "    </tr>\n",
       "    <tr>\n",
       "      <th>220</th>\n",
       "      <td>4.641800e+09</td>\n",
       "      <td>5.245433e+09</td>\n",
       "    </tr>\n",
       "    <tr>\n",
       "      <th>1254</th>\n",
       "      <td>7.809606e+09</td>\n",
       "      <td>1.639283e+10</td>\n",
       "    </tr>\n",
       "    <tr>\n",
       "      <th>...</th>\n",
       "      <td>...</td>\n",
       "      <td>...</td>\n",
       "    </tr>\n",
       "    <tr>\n",
       "      <th>401</th>\n",
       "      <td>5.841081e+09</td>\n",
       "      <td>2.795193e+08</td>\n",
       "    </tr>\n",
       "    <tr>\n",
       "      <th>110</th>\n",
       "      <td>5.636947e+09</td>\n",
       "      <td>2.320185e+09</td>\n",
       "    </tr>\n",
       "    <tr>\n",
       "      <th>214</th>\n",
       "      <td>3.089105e+09</td>\n",
       "      <td>9.001764e+08</td>\n",
       "    </tr>\n",
       "    <tr>\n",
       "      <th>646</th>\n",
       "      <td>8.183039e+09</td>\n",
       "      <td>7.944131e+09</td>\n",
       "    </tr>\n",
       "    <tr>\n",
       "      <th>417</th>\n",
       "      <td>2.474107e+09</td>\n",
       "      <td>6.155062e+09</td>\n",
       "    </tr>\n",
       "  </tbody>\n",
       "</table>\n",
       "<p>391 rows × 2 columns</p>\n",
       "</div>"
      ],
      "text/plain": [
       "            y_pred        y_true\n",
       "1286  1.560161e+09  6.862506e+09\n",
       "617   1.039580e+09  1.400733e+09\n",
       "1158  9.746600e+09  1.068997e+10\n",
       "220   4.641800e+09  5.245433e+09\n",
       "1254  7.809606e+09  1.639283e+10\n",
       "...            ...           ...\n",
       "401   5.841081e+09  2.795193e+08\n",
       "110   5.636947e+09  2.320185e+09\n",
       "214   3.089105e+09  9.001764e+08\n",
       "646   8.183039e+09  7.944131e+09\n",
       "417   2.474107e+09  6.155062e+09\n",
       "\n",
       "[391 rows x 2 columns]"
      ]
     },
     "execution_count": 12,
     "metadata": {},
     "output_type": "execute_result"
    }
   ],
   "source": [
    "# 실제값(y_true)과 예측값(y_pred) 리스트 출력\n",
    "sample = pd.DataFrame(\n",
    "{\n",
    "    'y_pred' : y_pred,\n",
    "    'y_true' : y_true\n",
    "})\n",
    "sample"
   ]
  },
  {
   "cell_type": "code",
   "execution_count": 13,
   "metadata": {},
   "outputs": [
    {
     "data": {
      "text/plain": [
       "391"
      ]
     },
     "execution_count": 13,
     "metadata": {},
     "output_type": "execute_result"
    }
   ],
   "source": [
    "# 2) 정답\n",
    "Y = use_test[y_cols]\n",
    "Y\n",
    "len(Y) # 391"
   ]
  },
  {
   "cell_type": "code",
   "execution_count": 14,
   "metadata": {
    "scrolled": false
   },
   "outputs": [
    {
     "data": {
      "image/png": "[encoded data removed]",
      "text/plain": [
       "<Figure size 432x288 with 1 Axes>"
      ]
     },
     "metadata": {
      "needs_background": "light"
     },
     "output_type": "display_data"
    }
   ],
   "source": [
    "# 시각화를 통한 확인. 직선 부근에 데이터가 모여있을수록 \n",
    "#다중 회귀 분석이 잘 되었다고 할 수 있다.\n",
    "import matplotlib.pyplot as plt\n",
    "\n",
    "# 글꼴 설정 통해 Glyph 49892 missing from current font. 오류 해결\n",
    "plt.rc('font', family = 'Malgun Gothic') # 맑은 고딕\n",
    "plt.scatter(use_test[y_cols], y_pred, alpha = 0.4)\n",
    "plt.xlabel(\"실제 총 매출\")\n",
    "plt.ylabel(\"예측 총 매출\")\n",
    "plt.title(\"다중 회귀를 통한 총 매출 예측\")\n",
    "plt.show()"
   ]
  },
  {
   "cell_type": "code",
   "execution_count": 15,
   "metadata": {},
   "outputs": [
    {
     "name": "stdout",
     "output_type": "stream",
     "text": [
      "rmse =  8525874699.94858\n"
     ]
    }
   ],
   "source": [
    "# 3) RMSE (평균제곱근오차) 평가\n",
    "rmse = mean_squared_error(y_true = Y, y_pred = y_pred) ** 0.5\n",
    "print('rmse = ', rmse)\n",
    "# rmse = 8525874699.94858\n",
    "# 이 값이 작을수록 모델의 예측력이 높음\n",
    "# 종속 변수인 '총 매출'의 데이터 자체가 원래 큰 값임을 고려할 것!"
   ]
  },
  {
   "cell_type": "code",
   "execution_count": 16,
   "metadata": {},
   "outputs": [
    {
     "data": {
      "text/plain": [
       "pandas.core.series.Series"
      ]
     },
     "execution_count": 16,
     "metadata": {},
     "output_type": "execute_result"
    }
   ],
   "source": [
    "# 4) 상관 계수\n",
    "type(y_pred) # numpy.ndarray -> Series로 바꾸기\n",
    "type(Y) # pandas.core.series.Series"
   ]
  },
  {
   "cell_type": "code",
   "execution_count": 17,
   "metadata": {},
   "outputs": [
    {
     "data": {
      "text/plain": [
       "pandas.core.series.Series"
      ]
     },
     "execution_count": 17,
     "metadata": {},
     "output_type": "execute_result"
    }
   ],
   "source": [
    "y_pred = pd.Series(y_pred)\n",
    "type(y_pred) # pandas.core.series.Series\n",
    "# 이제 y_pred와 Y는 같은 Series 객체로 호환성을 갖췄기 때문에 상관 분석 가능"
   ]
  },
  {
   "cell_type": "code",
   "execution_count": 18,
   "metadata": {},
   "outputs": [],
   "source": [
    "#cor = Y.corr(y_pred)\n",
    "#cor # 0.00624088911132983"
   ]
  },
  {
   "cell_type": "code",
   "execution_count": 19,
   "metadata": {},
   "outputs": [
    {
     "name": "stdout",
     "output_type": "stream",
     "text": [
      "<class 'pandas.core.frame.DataFrame'>\n",
      "Int64Index: 659 entries, 0 to 1299\n",
      "Data columns (total 2 columns):\n",
      " #   Column  Non-Null Count  Dtype  \n",
      "---  ------  --------------  -----  \n",
      " 0   pred    391 non-null    float64\n",
      " 1   Y       391 non-null    float64\n",
      "dtypes: float64(2)\n",
      "memory usage: 15.4 KB\n"
     ]
    }
   ],
   "source": [
    "# 예측치와 관측치 이용해서 DF 생성\n",
    "df = pd.DataFrame({'pred' : y_pred, 'Y' : Y})\n",
    "df.info()"
   ]
  },
  {
   "cell_type": "code",
   "execution_count": 20,
   "metadata": {},
   "outputs": [
    {
     "data": {
      "text/plain": [
       "-0.04555113875469926"
      ]
     },
     "execution_count": 20,
     "metadata": {},
     "output_type": "execute_result"
    }
   ],
   "source": [
    "cor = df['pred'].corr(df['Y'])\n",
    "cor # 이 값의 절댓값이 클수록 모델의 예측력이 높은 것\n",
    "# -0.04555113875469926"
   ]
  },
  {
   "cell_type": "code",
   "execution_count": 21,
   "metadata": {},
   "outputs": [
    {
     "data": {
      "text/html": [
       "<div>\n",
       "<style scoped>\n",
       "    .dataframe tbody tr th:only-of-type {\n",
       "        vertical-align: middle;\n",
       "    }\n",
       "\n",
       "    .dataframe tbody tr th {\n",
       "        vertical-align: top;\n",
       "    }\n",
       "\n",
       "    .dataframe thead th {\n",
       "        text-align: right;\n",
       "    }\n",
       "</style>\n",
       "<table border=\"1\" class=\"dataframe\">\n",
       "  <thead>\n",
       "    <tr style=\"text-align: right;\">\n",
       "      <th></th>\n",
       "      <th>y_pred</th>\n",
       "      <th>y_true</th>\n",
       "      <th>relative_error</th>\n",
       "    </tr>\n",
       "  </thead>\n",
       "  <tbody>\n",
       "    <tr>\n",
       "      <th>1286</th>\n",
       "      <td>1.560161e+09</td>\n",
       "      <td>6.862506e+09</td>\n",
       "      <td>0.772654</td>\n",
       "    </tr>\n",
       "    <tr>\n",
       "      <th>617</th>\n",
       "      <td>1.039580e+09</td>\n",
       "      <td>1.400733e+09</td>\n",
       "      <td>0.257831</td>\n",
       "    </tr>\n",
       "    <tr>\n",
       "      <th>1158</th>\n",
       "      <td>9.746600e+09</td>\n",
       "      <td>1.068997e+10</td>\n",
       "      <td>0.088249</td>\n",
       "    </tr>\n",
       "    <tr>\n",
       "      <th>220</th>\n",
       "      <td>4.641800e+09</td>\n",
       "      <td>5.245433e+09</td>\n",
       "      <td>0.115078</td>\n",
       "    </tr>\n",
       "    <tr>\n",
       "      <th>1254</th>\n",
       "      <td>7.809606e+09</td>\n",
       "      <td>1.639283e+10</td>\n",
       "      <td>0.523596</td>\n",
       "    </tr>\n",
       "  </tbody>\n",
       "</table>\n",
       "</div>"
      ],
      "text/plain": [
       "            y_pred        y_true  relative_error\n",
       "1286  1.560161e+09  6.862506e+09        0.772654\n",
       "617   1.039580e+09  1.400733e+09        0.257831\n",
       "1158  9.746600e+09  1.068997e+10        0.088249\n",
       "220   4.641800e+09  5.245433e+09        0.115078\n",
       "1254  7.809606e+09  1.639283e+10        0.523596"
      ]
     },
     "execution_count": 21,
     "metadata": {},
     "output_type": "execute_result"
    }
   ],
   "source": [
    "# 상대 오차 구하기 \n",
    "# 실제값과 예측값의 차를 실제값으로 나눠 오차의 정도를 파악할 수 있음\n",
    "relative_error = (sample['y_true'] - sample['y_pred']) / sample['y_true']\n",
    "relative_error.head()\n",
    "sample['relative_error'] = relative_error\n",
    "sample.head()"
   ]
  },
  {
   "cell_type": "code",
   "execution_count": 22,
   "metadata": {},
   "outputs": [],
   "source": [
    "# 예측값과 실제값, 상대 오차로 이루어진 list csv 파일 생성\n",
    "sample.to_csv(\"C:\\\\Users\\\\jjh99\\\\바탕 화면\\\\capstone_data\\\\relative_error_no_log.csv\", encoding = 'utf-8-sig')"
   ]
  }
 ],
 "metadata": {
  "kernelspec": {
   "display_name": "Python 3",
   "language": "python",
   "name": "python3"
  },
  "language_info": {
   "codemirror_mode": {
    "name": "ipython",
    "version": 3
   },
   "file_extension": ".py",
   "mimetype": "text/x-python",
   "name": "python",
   "nbconvert_exporter": "python",
   "pygments_lexer": "ipython3",
   "version": "3.8.3"
  }
 },
 "nbformat": 4,
 "nbformat_minor": 4
}
